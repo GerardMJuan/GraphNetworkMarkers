{
 "cells": [
  {
   "cell_type": "markdown",
   "metadata": {},
   "source": [
    "## VISUALIZATION of intrahemisphere connectivity\n",
    "\n",
    "Similar to corpus callosum. Visualize relationships between extracted MRI variables and cognitive values."
   ]
  },
  {
   "cell_type": "code",
   "execution_count": 27,
   "metadata": {},
   "outputs": [],
   "source": [
    "import pandas as pd\n",
    "import numpy as np\n",
    "import os\n",
    "import matplotlib.pyplot as plt\n",
    "import seaborn as sns\n",
    "from statannot import add_stat_annotation\n",
    "import glob\n",
    "import statsmodels.api as sm\n",
    "import statsmodels.formula.api as smf\n",
    "from functools import reduce"
   ]
  },
  {
   "cell_type": "code",
   "execution_count": 28,
   "metadata": {},
   "outputs": [],
   "source": [
    "# Load the csv\n",
    "\n",
    "csv_cc = 'cc.csv'\n",
    "# csv_hemis = 'graph_intrainter_cort_G_SC.csv'\n",
    "csv_hemis = 'graph_dti_G_SC_cort.csv'\n",
    "csv_hemis_FC = 'graph_G_FC.csv'\n",
    "csv_hemis_cl = 'graph_CLINIC_og_G_SC.csv'\n",
    "csv_hemis_nodes = 'graph_nodes_SC.csv'\n",
    "csv_total = 'data_total.csv'\n",
    "\n",
    "df_cc = pd.read_csv(csv_cc)\n",
    "df_hemis = pd.read_csv(csv_hemis)\n",
    "df_hemis_FC = pd.read_csv(csv_hemis_FC)\n",
    "df_hemis_cl = pd.read_csv(csv_hemis_cl)\n",
    "df_hemis_nodes = pd.read_csv(csv_hemis_nodes)\n",
    "df_total = pd.read_csv(csv_total)"
   ]
  },
  {
   "cell_type": "code",
   "execution_count": null,
   "metadata": {},
   "outputs": [],
   "source": [
    "# merge results and total\n",
    "data_frames = [df_total, df_cc, df_hemis, df_hemis_FC]\n",
    "df_merged = reduce(lambda  left,right: pd.merge(left,right,on=[\"SubjID\", \"CENTER\"]), data_frames)\n",
    "df_merged = df_merged[df_merged.QC == \"Y\"]\n",
    "\n",
    "data_frames = [df_total, df_cc, df_hemis_cl]\n",
    "df_merged_cl = reduce(lambda  left,right: pd.merge(left,right,on=[\"SubjID\", \"CENTER\"]), data_frames)\n",
    "df_merged_cl = df_merged_cl[df_merged_cl.QC == \"Y\"]\n",
    "\n",
    "\n",
    "print(df_merged[\"GROUP\"].describe())\n",
    "df_merged.head()"
   ]
  },
  {
   "cell_type": "code",
   "execution_count": null,
   "metadata": {},
   "outputs": [],
   "source": [
    "## Boxplots center and diagnosis\n",
    "## Do for all the CC values\n",
    "df_merged[\"Full_hemis\"] = ( df_merged[\"SC_L_avg_spl\"] + df_merged[\"SC_R_avg_spl\"] ) / 2\n",
    "df_merged[\"FC_spl_full\"] = ( df_merged[\"FC_L_avg_spl\"] + df_merged[\"FC_R_avg_spl\"] ) / 2\n",
    "df_merged[\"FC_eff_full\"] = ( df_merged[\"FC_L_efficiency\"] + df_merged[\"FC_R_efficiency\"] ) / 2\n",
    "\n",
    "list_of_values = [\"Full_hemis\", \"SC_avg_spl\", \"FC_spl_full\", \"FC_inter_avg_spl\", \"FC_eff_full\", \"FC_inter_efficiency\"]\n",
    "\n",
    "for cc in list_of_values:\n",
    "\n",
    "    fig, ((ax1, ax2)) = plt.subplots(1, 2, figsize=(15,5))\n",
    "    plt.suptitle(f\"{cc}: boxplots\", y=1.0)\n",
    "    sns.boxplot(data=df_merged, x=\"GROUP\", y=f\"{cc}\", ax=ax1)\n",
    "    sns.swarmplot(data=df_merged, x=\"GROUP\", y=f\"{cc}\", ax=ax1, color=\".2\", size=3)\n",
    "\n",
    "    sns.boxplot(data=df_merged, x=\"CENTER\", y=f\"{cc}\", ax=ax2)\n",
    "    sns.swarmplot(data=df_merged, x=\"CENTER\", y=f\"{cc}\", ax=ax2, color=\".2\", size=3)"
   ]
  },
  {
   "cell_type": "code",
   "execution_count": null,
   "metadata": {},
   "outputs": [],
   "source": [
    "## REGRESSION\n",
    "# Compare each CC to SDMT and EDSS. \n",
    "from scipy import stats\n",
    "\n",
    "variable_to_plot = \"Test\" # needs to change every time\n",
    "\n",
    "def annotate(data, **kws):\n",
    "    r, p = stats.pearsonr(data[variable_to_plot], data[f\"{cc}\"])\n",
    "    ax = plt.gca()\n",
    "    ax.text(.05, .8, 'r={:.2f}, p={:.2g}'.format(r, p),\n",
    "            transform=ax.transAxes)\n",
    "\n",
    "\n",
    "list_of_values = [\"Full_hemis\", \"SC_inter_avg_spl\", \"FC_spl_full\", \"FC_inter_avg_spl\", \"FC_eff_full\", \"FC_inter_efficiency\"]\n",
    "for cc in list_of_values:\n",
    "\n",
    "    for variable_to_plot in [\"AGE\", \"DD\", \"SDMT\", \"EDSS\"]:\n",
    "\n",
    "        data_to_plot = df_merged\n",
    "        if variable_to_plot in [\"DD\", \"SDMT\", \"EDSS\"]:\n",
    "            data_to_plot = df_merged[df_merged.GROUP != \"HC\"].dropna(subset=[variable_to_plot])\n",
    "\n",
    "        # AGE\n",
    "        g = sns.lmplot(data=data_to_plot, x=variable_to_plot, y=f\"{cc}\", col=\"GROUP\", hue=\"GROUP\")\n",
    "        g.map_dataframe(annotate)\n",
    "\n"
   ]
  },
  {
   "cell_type": "code",
   "execution_count": null,
   "metadata": {},
   "outputs": [],
   "source": [
    "def annotate(col1, col2, data, multihue=False, **kwargs):\n",
    "    if len(data[col1]) >= 2 or len(data[col2]) >= 2:\n",
    "        r, p = stats.pearsonr(data[col1], data[col2])\n",
    "        ax = plt.gca()\n",
    "\n",
    "        # hardcoded, udpate if working with other labels\n",
    "        x_pos = 0.05\n",
    "        if multihue:\n",
    "            label = kwargs[\"label\"]\n",
    "            dict_of_labels = {\"CIS\": 0, \"RRMS\": 1, \"PMS\": 2, 'MS':0, 'HC':1}\n",
    "            y_pos = 0.8 - dict_of_labels[kwargs[\"label\"]]*0.05\n",
    "        else:\n",
    "            label =  \" \"\n",
    "            y_pos = 0.8\n",
    "        \n",
    "        ax.text(x_pos, y_pos, f'{label}, ' + 'r={:.2f}, p={:.2g}'.format(r, p),\n",
    "                transform=ax.transAxes)\n",
    "\n",
    "# Sum all values of CC and divide by ICV\n",
    "# average intrahemis connectivity\n",
    "# plot one against the other\n",
    "\n",
    "list_of_values = [\"Full_hemis\", \"SC_inter_avg_spl\", \"FC_spl_full\", \"FC_inter_avg_spl\", \"FC_eff_full\", \"FC_inter_efficiency\"]\n",
    "\n",
    "df_merged[\"Full_CC\"] = df_merged[\"CC_Posterior\"] + df_merged[\"CC_Mid_Posterior\"] + df_merged[\"CC_Central\"] + df_merged[\"CC_Mid_Anterior\"] + df_merged[\"CC_Anterior\"]\n",
    "df_merged[\"Comm_ratio_approx\"] = ( df_merged[\"CC_Posterior\"] + df_merged[\"CC_Mid_Posterior\"] + df_merged[\"CC_Central\"] + df_merged[\"CC_Mid_Anterior\"] + df_merged[\"CC_Anterior\"] ) / df_merged[\"EstimatedTotalIntraCranialVol\"]\n",
    "df_merged[\"CC_ratio_area\"] = np.sqrt(df_merged[\"CC_Sag_area\"]) / (df_merged[\"BrainSegVol\"]**(1./3.))\n",
    "\n",
    "# both \n",
    "df_merged[\"Full_hemis\"] = ( df_merged[\"SC_L_avg_spl\"] + df_merged[\"SC_R_avg_spl\"] ) / 2\n",
    "df_merged_cl[\"Full_hemis\"] = ( df_merged_cl[\"SC_L_avg_spl\"] + df_merged_cl[\"SC_R_avg_spl\"] ) / 2\n",
    "\n",
    "results = smf.ols(f'Full_hemis ~ C(CENTER)', data=df_merged).fit()\n",
    "df_merged[f\"Full_hemis_C\"] = results.resid\n",
    "\n",
    "results = smf.ols(f'Comm_ratio ~ C(CENTER)', data=df_merged).fit()\n",
    "df_merged[f\"Comm_ratio_C\"] = results.resid\n",
    "\n",
    "variable_to_plot = \"Comm_ratio\"\n",
    "cc = \"Full_hemis\"\n",
    "df_merged['disease'] = np.where((df_merged['GROUP']== 'HC'), \"HC\", \"MS\")\n",
    "df_merged_hc = df_merged[df_merged.disease == \"HC\"]\n",
    "g = sns.lmplot(data=df_merged, x=variable_to_plot, y=f\"{cc}\", col=\"CENTER\")\n",
    "g.map_dataframe(annotate, variable_to_plot, cc, multihue=False)\n"
   ]
  },
  {
   "cell_type": "code",
   "execution_count": null,
   "metadata": {},
   "outputs": [],
   "source": [
    "df_merged[\"CC_Sag_area_sqrt\"] = np.log10(np.sqrt(df_merged[\"CC_Sag_area\"]))\n",
    "df_merged[\"TIV_cubicroot\"] = np.log10(df_merged[\"BrainSegVol\"]**(1./3.))\n",
    "\n",
    "g = sns.lmplot(data=df_merged, x=\"Comm_ratio\", y=\"TIV_cubicroot\", hue=\"disease\")\n",
    "g.map_dataframe(annotate, \"Comm_ratio\", \"TIV_cubicroot\", multihue=True)\n"
   ]
  },
  {
   "cell_type": "code",
   "execution_count": null,
   "metadata": {},
   "outputs": [],
   "source": [
    "g = sns.lmplot(data=df_merged, x=\"TIV_cubicroot\", y=\"CC_Sag_area_sqrt\")"
   ]
  },
  {
   "cell_type": "code",
   "execution_count": null,
   "metadata": {},
   "outputs": [],
   "source": [
    "variable_to_plot = \"Full_hemis\"\n",
    "cc = \"Full_hemis_mine\"\n",
    "df_merged_cl['Full_hemis_mine'] = df_merged[df_merged.CENTER==\"CLINIC\"][\"Full_hemis\"]\n",
    "g = sns.lmplot(data=df_merged_cl, x=variable_to_plot, y=f\"{cc}\", robust=True)\n",
    "g.map_dataframe(annotate)\n"
   ]
  },
  {
   "cell_type": "code",
   "execution_count": null,
   "metadata": {},
   "outputs": [],
   "source": []
  }
 ],
 "metadata": {
  "interpreter": {
   "hash": "a3d362fb7201e10679cdfdbeda695f836df1e760e89843827319abd33d594273"
  },
  "kernelspec": {
   "display_name": "Python 3.8.12 64-bit ('tvb': conda)",
   "language": "python",
   "name": "python3"
  },
  "language_info": {
   "codemirror_mode": {
    "name": "ipython",
    "version": 3
   },
   "file_extension": ".py",
   "mimetype": "text/x-python",
   "name": "python",
   "nbconvert_exporter": "python",
   "pygments_lexer": "ipython3",
   "version": "3.8.12"
  },
  "orig_nbformat": 4
 },
 "nbformat": 4,
 "nbformat_minor": 2
}
