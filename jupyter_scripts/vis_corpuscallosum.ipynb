{
 "cells": [
  {
   "cell_type": "markdown",
   "metadata": {},
   "source": [
    "## Visualization of corpus callosum\n",
    "Create visualization of corpus callosum values and SC extracted values, dividing it by center and DX label.\n",
    "\n",
    "View the differences using boxplots and regression plots. Relate everything to center, DX, SDMT, EDSS."
   ]
  },
  {
   "cell_type": "code",
   "execution_count": 21,
   "metadata": {},
   "outputs": [],
   "source": [
    "import pandas as pd\n",
    "import numpy as np\n",
    "import os\n",
    "import matplotlib.pyplot as plt\n",
    "import seaborn as sns\n",
    "from statannot import add_stat_annotation\n",
    "import glob\n",
    "import statsmodels.api as sm\n",
    "import statsmodels.formula.api as smf\n",
    "from functools import reduce"
   ]
  },
  {
   "cell_type": "code",
   "execution_count": 22,
   "metadata": {},
   "outputs": [],
   "source": [
    "# Load the csv\n",
    "\n",
    "csv_cc = 'cc.csv'\n",
    "csv_hemis = 'graph_G_SC.csv'\n",
    "csv_hemis_nodes = 'graph_nodes_SC.csv'\n",
    "csv_total = 'data_total.csv'\n",
    "\n",
    "df_cc = pd.read_csv(csv_cc)\n",
    "df_hemis = pd.read_csv(csv_hemis)\n",
    "df_hemis_nodes = pd.read_csv(csv_hemis_nodes)\n",
    "df_total = pd.read_csv(csv_total)"
   ]
  },
  {
   "cell_type": "code",
   "execution_count": null,
   "metadata": {},
   "outputs": [],
   "source": [
    "# merge results and total\n",
    "data_frames = [df_total, df_cc]\n",
    "\n",
    "df_merged = reduce(lambda  left,right: pd.merge(left,right,on=[\"SubjID\", \"CENTER\"]), data_frames)\n",
    "\n",
    "print(df_merged[\"CENTER\"].describe())\n",
    "df_merged[\"Full_CC\"] = df_merged[\"CC_Posterior\"] + df_merged[\"CC_Mid_Posterior\"] + df_merged[\"CC_Central\"] + df_merged[\"CC_Mid_Anterior\"] + df_merged[\"CC_Anterior\"]"
   ]
  },
  {
   "cell_type": "markdown",
   "metadata": {},
   "source": [
    "## CORPUS CALLOSUM"
   ]
  },
  {
   "cell_type": "code",
   "execution_count": null,
   "metadata": {},
   "outputs": [],
   "source": [
    "## Boxplots center and diagnosis\n",
    "## Do for all the CC values\n",
    "list_of_values = [\"CC_Posterior\", \"CC_Mid_Posterior\", \"CC_Central\", \"CC_Mid_Anterior\", \"CC_Anterior\", \"Full_CC\", \"CC_Sag_area\"]\n",
    "for cc in list_of_values:\n",
    "\n",
    "    # divide by TOtal ICV and onto new column IF VOLUME\n",
    "    # else, divide by \n",
    "    if cc != \"CC_Sag_area\": df_merged[f\"{cc}_ICV\"] = df_merged[cc] / df_merged[\"EstimatedTotalIntraCranialVol\"]\n",
    "    else: df_merged[f\"{cc}_ICV\"] = np.sqrt(df_merged[cc]) / (df_merged[\"EstimatedTotalIntraCranialVol\"]**(1./3.))\n",
    "    \n",
    "    fig, ((ax1, ax2)) = plt.subplots(1, 2, figsize=(12,5))\n",
    "    plt.suptitle(f\"{cc}: boxplots\", y=1.2)\n",
    "    sns.boxplot(data=df_merged, x=\"GROUP\", y=f\"{cc}_ICV\", ax=ax1)\n",
    "    # sns.swarmplot(data=df_merged, x=\"GROUP\", y=f\"{cc}_ICV\", ax=ax1, color=\".2\")\n",
    "\n",
    "    sns.boxplot(data=df_merged, x=\"CENTER\", y=f\"{cc}_ICV\", ax=ax2)\n",
    "    #sns.swarmplot(data=df_merged, x=\"CENTER\", y=f\"{cc}_ICV\", ax=ax2, color=\".2\")"
   ]
  },
  {
   "cell_type": "code",
   "execution_count": null,
   "metadata": {},
   "outputs": [],
   "source": [
    "## REGRESSION\n",
    "# Compare each CC to SDMT and EDSS. \n",
    "from scipy import stats\n",
    "\n",
    "variable_to_plot = \"Test\" # needs to change every time\n",
    "\n",
    "def annotate(data, **kws):\n",
    "    r, p = stats.pearsonr(data[variable_to_plot], data[f\"{cc}_ICV\"])\n",
    "    ax = plt.gca()\n",
    "    ax.text(.05, .8, 'r={:.2f}, p={:.2g}'.format(r, p),\n",
    "            transform=ax.transAxes)\n",
    "\n",
    "list_of_values = [\"CC_Posterior\", \"CC_Mid_Posterior\", \"CC_Central\", \"CC_Mid_Anterior\", \"CC_Anterior\", \"Full_CC\", \"CC_Sag_area\"]\n",
    "for cc in list_of_values:\n",
    "\n",
    "    # divide by TOtal ICV and onto new column\n",
    "    # df_merged[f\"{cc}_ICV\"] = df_merged[cc] / df_merged[\"EstimatedTotalIntraCranialVol\"]\n",
    "\n",
    "    for variable_to_plot in [\"AGE\", \"DD\", \"SDMT\", \"EDSS\"]:\n",
    "\n",
    "        data_to_plot = df_merged\n",
    "        if variable_to_plot in [\"DD\", \"SDMT\", \"EDSS\"]:\n",
    "            data_to_plot = df_merged[df_merged.GROUP != \"HC\"].dropna(subset=[variable_to_plot])\n",
    "\n",
    "        # AGE\n",
    "        g = sns.lmplot(data=data_to_plot, x=variable_to_plot, y=f\"{cc}_ICV\", col=\"GROUP\", hue=\"GROUP\")\n",
    "        g.map_dataframe(annotate)\n",
    "\n"
   ]
  },
  {
   "cell_type": "code",
   "execution_count": null,
   "metadata": {},
   "outputs": [],
   "source": []
  },
  {
   "cell_type": "code",
   "execution_count": null,
   "metadata": {},
   "outputs": [],
   "source": []
  },
  {
   "cell_type": "code",
   "execution_count": null,
   "metadata": {},
   "outputs": [],
   "source": []
  }
 ],
 "metadata": {
  "interpreter": {
   "hash": "a3d362fb7201e10679cdfdbeda695f836df1e760e89843827319abd33d594273"
  },
  "kernelspec": {
   "display_name": "Python 3.8.12 64-bit ('tvb': conda)",
   "language": "python",
   "name": "python3"
  },
  "language_info": {
   "codemirror_mode": {
    "name": "ipython",
    "version": 3
   },
   "file_extension": ".py",
   "mimetype": "text/x-python",
   "name": "python",
   "nbconvert_exporter": "python",
   "pygments_lexer": "ipython3",
   "version": "3.8.12"
  },
  "orig_nbformat": 4
 },
 "nbformat": 4,
 "nbformat_minor": 2
}
