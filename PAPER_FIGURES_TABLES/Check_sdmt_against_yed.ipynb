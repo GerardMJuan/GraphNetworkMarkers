{
 "cells": [
  {
   "cell_type": "markdown",
   "metadata": {},
   "source": [
    "## Small script that checks if SDMT values are correlated with YED values"
   ]
  },
  {
   "cell_type": "code",
   "execution_count": 1,
   "metadata": {},
   "outputs": [],
   "source": [
    "import pandas as pd\n",
    "import numpy as np\n",
    "import matplotlib.pyplot as plt\n",
    "import seaborn as sns\n",
    "from statannot import add_stat_annotation\n",
    "import statsmodels.api as sm\n",
    "import statsmodels.formula.api as smf\n",
    "from scipy import stats\n",
    "from statannotations.Annotator import Annotator\n",
    "import itertools \n",
    "\n",
    "# ignore warnings for easier plotting\n",
    "import warnings\n",
    "warnings.filterwarnings(\"ignore\")\n",
    "\n",
    "from load_data import load_data, return_asterisks_p"
   ]
  },
  {
   "cell_type": "code",
   "execution_count": 2,
   "metadata": {},
   "outputs": [],
   "source": [
    "sns.set(style='darkgrid', context='talk', palette='Set1', font=\"serif\")"
   ]
  },
  {
   "cell_type": "code",
   "execution_count": 3,
   "metadata": {},
   "outputs": [
    {
     "name": "stdout",
     "output_type": "stream",
     "text": [
      "Initial length: 730\n",
      "disease\n",
      "HC    216\n",
      "MS    514\n",
      "dtype: int64\n",
      "QC N: 5\n",
      "QC Y: 724\n",
      "LONDON2: 27\n",
      "697\n",
      "Index(['SubjID', 'DOB', 'SEX', 'GROUP', 'ONSET_DATE', 'MR_DATE',\n",
      "       'TREATMENT_AT_MRI', 'TREATMENT', 'EDSS', 'YED',\n",
      "       ...\n",
      "       'SC_eff_full', 'FC_spl_full', 'FC_eff_full', 'FC_entropy_full',\n",
      "       'FC_integration_full', 'Full_CC', 'Comm_ratio_approx', 'CC_ratio_area',\n",
      "       'CC_Sag_area_sqrt', 'TIV_cubicroot'],\n",
      "      dtype='object', length=143)\n"
     ]
    }
   ],
   "source": [
    "# Hue colors order and names\n",
    "# auxiliar dict to put correct order in the figure\n",
    "map_hue_color = {\n",
    "    \"EDSS_group\": [\"EDSS<=3\", \"EDSS>3\"],\n",
    "    \"SDMT_group\": [\"SDMT>=40\", \"SDMT<40\"],\n",
    "    \"G_norm\": ['G_z<=0', 'G_z>0'], \n",
    "    \"Corr_norm\": ['C_z<=0', 'C_z>0'],\n",
    "    \"disease\": [\"HC\", \"MS\"],\n",
    "    \"GROUP\": [\"HC\", \"CIS\", \"RRMS\", \"SPMS\", \"PPMS\"],\n",
    "    \"CENTER\": [\"CLINIC\", \"MAINZ\", \"MILAN\", \"NAPLES\", \"OSLO\", \"LONDON\", \"AMSTERDAM\"],\n",
    "    \"groups\" : [\"HC\", \"EDSS<=3\", \"EDSS>3\", \"SDMT>=40\", \"SDMT<40\"]\n",
    "    # \"GROUP\": [\"HC\", \"RRMS\", \"SPMS\", \"PPMS\"]\n",
    "}\n",
    "\n",
    "# get the progressives together.\n",
    "mapping_prog = {\n",
    "    \"HC\": \"HC\",\n",
    "    \"CIS\": \"CIS\", \n",
    "    \"RRMS\": \"RRMS\", \n",
    "    \"SPMS\": \"PMS\", \n",
    "    \"PPMS\": \"PMS\"\n",
    "}\n",
    "\n",
    "df_merged = load_data()\n",
    "print(len(df_merged))\n",
    "print(df_merged.columns)\n"
   ]
  },
  {
   "cell_type": "code",
   "execution_count": 4,
   "metadata": {},
   "outputs": [
    {
     "name": "stdout",
     "output_type": "stream",
     "text": [
      "CENTER\n",
      "AMSTERDAM    173\n",
      "LONDON        37\n",
      "MILAN         56\n",
      "NAPLES        51\n",
      "OSLO          58\n",
      "dtype: int64\n"
     ]
    }
   ],
   "source": [
    "# Get only patients with disease == MS\n",
    "df_merged = df_merged[df_merged[\"disease\"] == \"MS\"]\n",
    "\n",
    "# Get only patients where YED is available AND numeric\n",
    "df_merged = df_merged[df_merged[\"YED\"].notnull()]\n",
    "df_merged = df_merged[df_merged[\"YED\"].apply(lambda x: x.isnumeric())]\n",
    "\n",
    "# change yed to numeric\n",
    "df_merged[\"YED\"] = df_merged[\"YED\"].astype(int)\n",
    "\n",
    "# how many patients I have? (divided by center)\n",
    "print(df_merged.groupby(\"CENTER\").size())\n"
   ]
  },
  {
   "cell_type": "code",
   "execution_count": 8,
   "metadata": {},
   "outputs": [
    {
     "name": "stdout",
     "output_type": "stream",
     "text": [
      "0.005673219020182783\n",
      "2.7825300463279223\n",
      "                            OLS Regression Results                            \n",
      "==============================================================================\n",
      "Dep. Variable:                   SDMT   R-squared:                       0.281\n",
      "Model:                            OLS   Adj. R-squared:                  0.267\n",
      "Method:                 Least Squares   F-statistic:                     20.43\n",
      "Date:                Fri, 12 May 2023   Prob (F-statistic):           3.71e-23\n",
      "Time:                        10:51:00   Log-Likelihood:                -1431.9\n",
      "No. Observations:                 374   AIC:                             2880.\n",
      "Df Residuals:                     366   BIC:                             2911.\n",
      "Df Model:                           7                                         \n",
      "Covariance Type:            nonrobust                                         \n",
      "=======================================================================================\n",
      "                          coef    std err          t      P>|t|      [0.025      0.975]\n",
      "---------------------------------------------------------------------------------------\n",
      "Intercept              67.9976      3.266     20.821      0.000      61.576      74.420\n",
      "C(CENTER)[T.LONDON]    -2.7099      3.370     -0.804      0.422      -9.336       3.917\n",
      "C(CENTER)[T.MILAN]    -10.6473      2.716     -3.921      0.000     -15.987      -5.307\n",
      "C(CENTER)[T.NAPLES]   -15.5607      2.645     -5.883      0.000     -20.762     -10.360\n",
      "C(CENTER)[T.OSLO]      -7.3288      2.872     -2.552      0.011     -12.977      -1.681\n",
      "C(SEX)[T.M]            -2.1051      1.250     -1.684      0.093      -4.564       0.354\n",
      "YED                     0.6329      0.227      2.783      0.006       0.186       1.080\n",
      "AGE                    -0.4439      0.057     -7.851      0.000      -0.555      -0.333\n",
      "==============================================================================\n",
      "Omnibus:                        6.830   Durbin-Watson:                   1.959\n",
      "Prob(Omnibus):                  0.033   Jarque-Bera (JB):                7.969\n",
      "Skew:                          -0.199   Prob(JB):                       0.0186\n",
      "Kurtosis:                       3.595   Cond. No.                         414.\n",
      "==============================================================================\n",
      "\n",
      "Notes:\n",
      "[1] Standard Errors assume that the covariance matrix of the errors is correctly specified.\n"
     ]
    }
   ],
   "source": [
    "# CHeck if there is a significant association between SDMT and YED\n",
    "# I will use a linear regression model\n",
    "# I will use the same model as in the paper\n",
    "model = 'SDMT ~ YED'\n",
    "model_more = 'SDMT ~ YED + AGE + C(CENTER) + C(SEX)'\n",
    "results = smf.ols(model_more, data=df_merged).fit()\n",
    "print(results.pvalues[\"YED\"])\n",
    "print(results.tvalues[\"YED\"])\n",
    "\n",
    "print(results.summary())"
   ]
  },
  {
   "cell_type": "code",
   "execution_count": 11,
   "metadata": {},
   "outputs": [
    {
     "name": "stdout",
     "output_type": "stream",
     "text": [
      "\\begin{tabular}{lrl}\n",
      "\\toprule\n",
      "{} &         t &  pval \\\\\n",
      "CENTER    &           &       \\\\\n",
      "\\midrule\n",
      "MILAN     &  0.902732 &  0.37 \\\\\n",
      "NAPLES    &  1.910250 &  0.06 \\\\\n",
      "OSLO      &  0.962597 &  0.34 \\\\\n",
      "LONDON    & -0.288726 &  0.77 \\\\\n",
      "AMSTERDAM &  1.592308 &  0.11 \\\\\n",
      "\\bottomrule\n",
      "\\end{tabular}\n",
      "\n"
     ]
    }
   ],
   "source": [
    "# Do the same, but separately per center\n",
    "# I will use a linear regression model\n",
    "# I will use the same model as in the paper\n",
    "model = 'SDMT ~ YED'\n",
    "model_more = 'SDMT ~ YED + AGE + C(SEX)'\n",
    "\n",
    "df_results_glm = pd.DataFrame()\n",
    "\n",
    "for center in df_merged[\"CENTER\"].unique():\n",
    "    df_center = df_merged[df_merged[\"CENTER\"] == center]\n",
    "    results = smf.ols(model_more, data=df_center).fit()\n",
    "\n",
    "    pval = results.pvalues[\"YED\"]\n",
    "    \n",
    "    ast = return_asterisks_p(results.pvalues[\"YED\"])\n",
    "    #str_save = f\"r={r:.2f}{ast}\"\n",
    "    str_save = f\"{pval:.2f}{ast}\"\n",
    "\n",
    "    dict_to_append = {'CENTER': center, \"t\": results.tvalues[\"YED\"], \"pval\": str_save}\n",
    "\n",
    "    df_results_glm = df_results_glm.append(dict_to_append, ignore_index=True)\n",
    "\n",
    "# remove index from df\n",
    "df_results_glm = df_results_glm.reset_index(drop=True)\n",
    "df_results_glm = df_results_glm.set_index('CENTER')\n",
    "\n",
    "print(df_results_glm.to_latex(escape=False))"
   ]
  },
  {
   "cell_type": "code",
   "execution_count": 9,
   "metadata": {},
   "outputs": [
    {
     "name": "stdout",
     "output_type": "stream",
     "text": [
      "0.005673219020182783\n",
      "2.7825300463279223\n"
     ]
    }
   ],
   "source": [
    "model_more = 'SDMT ~ YED + AGE + C(CENTER) + C(SEX)'\n",
    "results = smf.ols(model_more, data=df_merged).fit()\n",
    "print(results.pvalues[\"YED\"])\n",
    "print(results.tvalues[\"YED\"])\n"
   ]
  },
  {
   "cell_type": "code",
   "execution_count": null,
   "metadata": {},
   "outputs": [],
   "source": []
  },
  {
   "cell_type": "code",
   "execution_count": null,
   "metadata": {},
   "outputs": [],
   "source": []
  }
 ],
 "metadata": {
  "kernelspec": {
   "display_name": "torch",
   "language": "python",
   "name": "python3"
  },
  "language_info": {
   "codemirror_mode": {
    "name": "ipython",
    "version": 3
   },
   "file_extension": ".py",
   "mimetype": "text/x-python",
   "name": "python",
   "nbconvert_exporter": "python",
   "pygments_lexer": "ipython3",
   "version": "3.9.12"
  },
  "orig_nbformat": 4
 },
 "nbformat": 4,
 "nbformat_minor": 2
}
