{
 "cells": [
  {
   "cell_type": "markdown",
   "metadata": {},
   "source": [
    "## Small script that checks if SDMT values are correlated with YED values"
   ]
  },
  {
   "cell_type": "code",
   "execution_count": 1,
   "metadata": {},
   "outputs": [],
   "source": [
    "import pandas as pd\n",
    "import numpy as np\n",
    "import matplotlib.pyplot as plt\n",
    "import seaborn as sns\n",
    "from statannot import add_stat_annotation\n",
    "import statsmodels.api as sm\n",
    "import statsmodels.formula.api as smf\n",
    "from scipy import stats\n",
    "from statannotations.Annotator import Annotator\n",
    "import itertools \n",
    "\n",
    "# ignore warnings for easier plotting\n",
    "import warnings\n",
    "warnings.filterwarnings(\"ignore\")\n",
    "\n",
    "from load_data import load_data, return_asterisks_p"
   ]
  },
  {
   "cell_type": "code",
   "execution_count": 2,
   "metadata": {},
   "outputs": [],
   "source": [
    "sns.set(style='darkgrid', context='talk', palette='Set1', font=\"serif\")"
   ]
  },
  {
   "cell_type": "code",
   "execution_count": null,
   "metadata": {},
   "outputs": [],
   "source": [
    "# Hue colors order and names\n",
    "# auxiliar dict to put correct order in the figure\n",
    "map_hue_color = {\n",
    "    \"EDSS_group\": [\"EDSS<=3\", \"EDSS>3\"],\n",
    "    \"SDMT_group\": [\"SDMT>=40\", \"SDMT<40\"],\n",
    "    \"G_norm\": ['G_z<=0', 'G_z>0'], \n",
    "    \"Corr_norm\": ['C_z<=0', 'C_z>0'],\n",
    "    \"disease\": [\"HC\", \"MS\"],\n",
    "    \"GROUP\": [\"HC\", \"CIS\", \"RRMS\", \"SPMS\", \"PPMS\"],\n",
    "    \"CENTER\": [\"CLINIC\", \"MAINZ\", \"MILAN\", \"NAPLES\", \"OSLO\", \"LONDON\", \"AMSTERDAM\"],\n",
    "    \"groups\" : [\"HC\", \"EDSS<=3\", \"EDSS>3\", \"SDMT>=40\", \"SDMT<40\"]\n",
    "    # \"GROUP\": [\"HC\", \"RRMS\", \"SPMS\", \"PPMS\"]\n",
    "}\n",
    "\n",
    "# get the progressives together.\n",
    "mapping_prog = {\n",
    "    \"HC\": \"HC\",\n",
    "    \"CIS\": \"CIS\", \n",
    "    \"RRMS\": \"RRMS\", \n",
    "    \"SPMS\": \"PMS\", \n",
    "    \"PPMS\": \"PMS\"\n",
    "}\n",
    "\n",
    "df_merged = load_data()\n",
    "print(len(df_merged))\n",
    "print(df_merged.columns)\n"
   ]
  },
  {
   "cell_type": "code",
   "execution_count": null,
   "metadata": {},
   "outputs": [],
   "source": [
    "# Get only patients with disease == MS\n",
    "df_merged = df_merged[df_merged[\"disease\"] == \"MS\"]\n",
    "\n",
    "# Get only patients where YED is available AND numeric\n",
    "df_merged = df_merged[df_merged[\"YED\"].notnull()]\n",
    "df_merged = df_merged[df_merged[\"YED\"].apply(lambda x: x.isnumeric())]\n",
    "\n",
    "# change yed to numeric\n",
    "df_merged[\"YED\"] = df_merged[\"YED\"].astype(int)\n",
    "\n",
    "# how many patients I have? (divided by center)\n",
    "print(df_merged.groupby(\"CENTER\").size())\n"
   ]
  },
  {
   "cell_type": "code",
   "execution_count": null,
   "metadata": {},
   "outputs": [],
   "source": [
    "# CHeck if there is a significant association between SDMT and YED\n",
    "# I will use a linear regression model\n",
    "# I will use the same model as in the paper\n",
    "model = 'SDMT ~ YED'\n",
    "model_more = 'SDMT ~ YED + AGE + C(CENTER) + C(SEX)'\n",
    "results = smf.ols(model_more, data=df_merged).fit()\n",
    "print(results.pvalues[\"YED\"])\n",
    "print(results.tvalues[\"YED\"])\n",
    "\n",
    "print(results.summary())"
   ]
  },
  {
   "cell_type": "code",
   "execution_count": null,
   "metadata": {},
   "outputs": [],
   "source": [
    "# Do the same, but separately per center\n",
    "# I will use a linear regression model\n",
    "# I will use the same model as in the paper\n",
    "model = 'SDMT ~ YED'\n",
    "model_more = 'SDMT ~ YED + AGE + C(SEX)'\n",
    "\n",
    "df_results_glm = pd.DataFrame()\n",
    "\n",
    "for center in df_merged[\"CENTER\"].unique():\n",
    "    df_center = df_merged[df_merged[\"CENTER\"] == center]\n",
    "    results = smf.ols(model_more, data=df_center).fit()\n",
    "\n",
    "    pval = results.pvalues[\"YED\"]\n",
    "    \n",
    "    ast = return_asterisks_p(results.pvalues[\"YED\"])\n",
    "    #str_save = f\"r={r:.2f}{ast}\"\n",
    "    str_save = f\"{pval:.2f}{ast}\"\n",
    "\n",
    "    dict_to_append = {'CENTER': center, \"t\": results.tvalues[\"YED\"], \"pval\": str_save}\n",
    "\n",
    "    df_results_glm = df_results_glm.append(dict_to_append, ignore_index=True)\n",
    "\n",
    "# remove index from df\n",
    "df_results_glm = df_results_glm.reset_index(drop=True)\n",
    "df_results_glm = df_results_glm.set_index('CENTER')\n",
    "\n",
    "print(df_results_glm.to_latex(escape=False))"
   ]
  },
  {
   "cell_type": "code",
   "execution_count": null,
   "metadata": {},
   "outputs": [],
   "source": [
    "model_more = 'SDMT ~ YED + AGE + C(CENTER) + C(SEX)'\n",
    "results = smf.ols(model_more, data=df_merged).fit()\n",
    "print(results.pvalues[\"YED\"])\n",
    "print(results.tvalues[\"YED\"])\n"
   ]
  },
  {
   "cell_type": "code",
   "execution_count": null,
   "metadata": {},
   "outputs": [],
   "source": []
  },
  {
   "cell_type": "code",
   "execution_count": null,
   "metadata": {},
   "outputs": [],
   "source": []
  }
 ],
 "metadata": {
  "kernelspec": {
   "display_name": "torch",
   "language": "python",
   "name": "python3"
  },
  "language_info": {
   "codemirror_mode": {
    "name": "ipython",
    "version": 3
   },
   "file_extension": ".py",
   "mimetype": "text/x-python",
   "name": "python",
   "nbconvert_exporter": "python",
   "pygments_lexer": "ipython3",
   "version": "3.9.12"
  },
  "orig_nbformat": 4
 },
 "nbformat": 4,
 "nbformat_minor": 2
}
