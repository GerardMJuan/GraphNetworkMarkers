{
 "cells": [
  {
   "cell_type": "markdown",
   "metadata": {},
   "source": [
    "## Small script to create the Supplementary Figure of the inter/intra- per center\n"
   ]
  },
  {
   "cell_type": "code",
   "execution_count": 2,
   "metadata": {},
   "outputs": [],
   "source": [
    "import pandas as pd\n",
    "import numpy as np\n",
    "import matplotlib.pyplot as plt\n",
    "import seaborn as sns\n",
    "from statannot import add_stat_annotation\n",
    "import statsmodels.api as sm\n",
    "import statsmodels.formula.api as smf\n",
    "from scipy import stats\n",
    "import itertools \n",
    "\n",
    "# ignore warnings for easier plotting\n",
    "import warnings\n",
    "warnings.filterwarnings(\"ignore\")\n",
    "\n",
    "from load_data import load_data"
   ]
  },
  {
   "cell_type": "code",
   "execution_count": 3,
   "metadata": {},
   "outputs": [],
   "source": [
    "sns.set(style='darkgrid', context='talk', palette='Set1', font=\"serif\")"
   ]
  },
  {
   "cell_type": "code",
   "execution_count": null,
   "metadata": {},
   "outputs": [],
   "source": [
    "# Hue colors order and names\n",
    "# auxiliar dict to put correct order in the figure\n",
    "map_hue_color = {\n",
    "    \"EDSS_group\": [\"EDSS<3\", \"EDSS>=3\"],\n",
    "    \"SDMT_group\": [\"SDMT>=40\", \"SDMT<40\"],\n",
    "    \"G_norm\": ['G_z<=0', 'G_z>0'], \n",
    "    \"Corr_norm\": ['C_z<=0', 'C_z>0'],\n",
    "    \"disease\": [\"HC\", \"MS\"],\n",
    "    \"GROUP\": [\"HC\", \"CIS\", \"RRMS\", \"SPMS\", \"PPMS\"],\n",
    "    \"CENTER\": [\"CLINIC\", \"MAINZ\", \"MILAN\", \"NAPLES\", \"OSLO\", \"LONDON\", \"AMSTERDAM\"],\n",
    "    \"groups\" : [\"HC\", \"EDSS<3\", \"EDSS>=3\", \"SDMT>=40\", \"SDMT<40\"]\n",
    "    # \"GROUP\": [\"HC\", \"RRMS\", \"SPMS\", \"PPMS\"]\n",
    "}\n",
    "\n",
    "# get the progressives together.\n",
    "mapping_prog = {\n",
    "    \"HC\": \"HC\",\n",
    "    \"CIS\": \"CIS\", \n",
    "    \"RRMS\": \"RRMS\", \n",
    "    \"SPMS\": \"PMS\", \n",
    "    \"PPMS\": \"PMS\"\n",
    "}\n",
    "\n",
    "df_merged = load_data()\n",
    "print(df_merged.columns.values)"
   ]
  },
  {
   "cell_type": "code",
   "execution_count": null,
   "metadata": {},
   "outputs": [],
   "source": [
    "print(len(df_merged))\n",
    "x1 = \"Comm_ratio\"\n",
    "x2 = \"CC_ratio_area\"\n",
    "\n",
    "y1 = \"SC_spl_full\"\n",
    "y2 = \"SC_eff_full\"\n",
    "\n",
    "\n",
    "tidy = (\n",
    "    df_merged[[\"Comm_ratio\", \"CC_ratio_area\", \"SC_spl_full\", \"SC_eff_full\"]].stack() # pull the columns into row variables   \n",
    "      .to_frame() # convert the resulting Series to a DataFrame\n",
    "      .reset_index() # pull the resulting MultiIndex into the columns\n",
    "      .rename(columns={0: 'val'}) # rename the unnamed column\n",
    ")\n",
    "\n",
    "print(tidy.head())\n"
   ]
  },
  {
   "cell_type": "code",
   "execution_count": 34,
   "metadata": {},
   "outputs": [],
   "source": [
    "\n",
    "def bonferroni_correction(p_value, m, alpha=0.05):\n",
    "    \"\"\"\n",
    "    Perform Bonferroni correction on a list of p-values.\n",
    "    \n",
    "    Parameters:\n",
    "    - p_values: list or numpy array of p-values\n",
    "    - alpha: significance level\n",
    "    \n",
    "    Returns:\n",
    "    - corrected_p_values: list of Bonferroni corrected p-values\n",
    "    - reject: boolean array indicating which null hypotheses are rejected\n",
    "    \"\"\"\n",
    "    corrected_p_value = np.minimum(1, p_value * m)  # Ensure p-values don't exceed 1\n",
    "    reject = corrected_p_value < alpha\n",
    "    return corrected_p_value\n",
    "\n",
    "# annotate function\n",
    "def annotate(col1, col2, data, multihue=False, **kwargs):\n",
    "    if len(data[col1]) >= 2 or len(data[col2]) >= 2:\n",
    "        r, p = stats.pearsonr(data[col1], data[col2])\n",
    "        p = bonferroni_correction(p, 28) # Total number of comparisons\n",
    "\n",
    "        ax = plt.gca()\n",
    "\n",
    "        # hardcoded, udpate if working with other labels\n",
    "        x_pos = 0.05\n",
    "        if multihue:\n",
    "            label = kwargs[\"label\"]\n",
    "            dict_of_labels = {\"CIS\": 0, \"RRMS\": 1, \"PMS\": 2, 'MS':0, 'HC':1}\n",
    "            y_pos = 0.9 - dict_of_labels[kwargs[\"label\"]]*0.07\n",
    "        else:\n",
    "            label =  \" \"\n",
    "            y_pos = 0.9\n",
    "        \n",
    "        ax.text(x_pos, y_pos, f'{label}: ' + 'r={:.2f}, p={:.2g}'.format(r, p),\n",
    "                transform=ax.transAxes)\n"
   ]
  },
  {
   "cell_type": "code",
   "execution_count": null,
   "metadata": {},
   "outputs": [],
   "source": [
    "sns.set(style=\"darkgrid\", context=\"talk\", palette=\"tab10\", font=\"serif\")\n",
    "\n",
    "x = \"Comm_ratio\"\n",
    "\n",
    "y1 = \"SC_spl_full\"\n",
    "y2 = \"SC_eff_full\"\n",
    "\n",
    "axis_labels = [(\"Commisural ratio\", \"Average SPL\"), (\"Commisural ratio\", \"Efficiency\")]\n",
    "\n",
    "\n",
    "for y, labels in zip([y1, y2], axis_labels):\n",
    "\n",
    "    results = smf.ols(f'{x} ~ AGE + C(SEX)', data=df_merged).fit()\n",
    "    df_merged[f\"{x}_C\"] = results.resid\n",
    "\n",
    "    results = smf.ols(f'{y} ~ AGE + C(SEX)', data=df_merged).fit()\n",
    "    df_merged[f\"{y}_C\"] = results.resid\n",
    "\n",
    "    df_merged['disease'] = np.where((df_merged['GROUP']== 'HC'), \"HC\", \"MS\")\n",
    "    df_merged_hc = df_merged[df_merged.disease == \"HC\"]\n",
    "    g = sns.lmplot(data=df_merged, x=f\"{x}_C\", y=f\"{y}_C\", scatter_kws={'s':25}, col=\"CENTER\", hue=\"disease\", sharey=True, sharex=True)\n",
    "    g.map_dataframe(annotate, f\"{x}_C\", f\"{y}_C\", multihue=True)\n",
    "    g.set_axis_labels(labels[0], labels[1])\n",
    "\n",
    "    g.set_yticklabels"
   ]
  },
  {
   "cell_type": "code",
   "execution_count": null,
   "metadata": {},
   "outputs": [],
   "source": []
  }
 ],
 "metadata": {
  "kernelspec": {
   "display_name": "base",
   "language": "python",
   "name": "python3"
  },
  "language_info": {
   "codemirror_mode": {
    "name": "ipython",
    "version": 3
   },
   "file_extension": ".py",
   "mimetype": "text/x-python",
   "name": "python",
   "nbconvert_exporter": "python",
   "pygments_lexer": "ipython3",
   "version": "3.9.12"
  },
  "orig_nbformat": 4,
  "vscode": {
   "interpreter": {
    "hash": "29c68d7e6eb9a62430e4c6dc4a6e9ca37c9675647923d158b28969aa466ad8c0"
   }
  }
 },
 "nbformat": 4,
 "nbformat_minor": 2
}
