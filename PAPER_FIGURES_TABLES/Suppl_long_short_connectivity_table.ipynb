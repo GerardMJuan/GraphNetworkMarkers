{
 "cells": [
  {
   "cell_type": "markdown",
   "metadata": {},
   "source": [
    "## Supplementary: Long-Short Connectivity Table"
   ]
  },
  {
   "cell_type": "code",
   "execution_count": 1,
   "metadata": {},
   "outputs": [],
   "source": [
    "import pandas as pd\n",
    "import numpy as np\n",
    "import matplotlib.pyplot as plt\n",
    "import seaborn as sns\n",
    "from statannot import add_stat_annotation\n",
    "import statsmodels.api as sm\n",
    "import statsmodels.formula.api as smf\n",
    "from scipy import stats\n",
    "from statannotations.Annotator import Annotator\n",
    "import itertools \n",
    "\n",
    "# ignore warnings for easier plotting\n",
    "import warnings\n",
    "warnings.filterwarnings(\"ignore\")\n",
    "\n",
    "from load_data import load_data, return_asterisks_p"
   ]
  },
  {
   "cell_type": "code",
   "execution_count": 2,
   "metadata": {},
   "outputs": [
    {
     "name": "stdout",
     "output_type": "stream",
     "text": [
      "['SubjID' 'DOB' 'SEX' 'GROUP' 'ONSET_DATE' 'MR_DATE' 'TREATMENT_AT_MRI'\n",
      " 'TREATMENT' 'EDSS' 'YED' 'SDMT' 'RAO_SRTS' 'RAO_SRTR' 'RAO_SRTD'\n",
      " 'RAO_10_36_SRTR' 'RAO_10_36_SRTD' 'RAO_WLG' 'RAO_PASAT' 'CENTER'\n",
      " 'FMRI_TR' 'FMRI_NSCANS' 'FMRI_SCANTIME' 'AGE' 'DD' 'BICAMS_CVLT2'\n",
      " 'BICAMS_BVMTR' 'NPS_x' '9HPT_dH' '9HPT_ndH' 'T25FW' 'motor_x'\n",
      " 'Datecognitiveevaluation' 'TypeRAO' 'RAO_PASAT2sec'\n",
      " 'RAO_WLGperseveration' 'RAO_WLGintrusion' 'Right9HPT' 'Left9HPT'\n",
      " 'MFIS_TOTAL' 'MFIS_PHYS_FUNCT' 'MFIS_COGN_FUNCT' 'MFIS_SOCIAL_FUNCT'\n",
      " 'BDI_II' '9HPT_average' 'notes_NPS' '9HPT_dH_' 'DWI_PROT' 'SCANNER'\n",
      " 'SRTL_sum' 'PASAT2' 'WRDLG' 'QC' 'CENTER2' 'GM' 'GMF' 'WM' 'WMF' 'CSF'\n",
      " 'CSFF' 'LV' 'LVF' 'BPF' 'RDwm_mean' 'RDwm_std' 'RDlwm_mean' 'RDlwm_std'\n",
      " 'RDl_mean' 'RDl_std' 'RD_gm' 'RD_gmwm' 'Meta_x' 'Meta_noreg'\n",
      " 'Unnamed: 21' 'Unnamed: 22' 'Unnamed: 23' 'FAwm_mean' 'FAwm_std'\n",
      " 'FAlwm_mean' 'FAlwm_std' 'FAl_mean' 'FAl_std' 'FA_gm' 'FA_gmwm'\n",
      " 'CC_Sag_area' 'CC_Posterior' 'CC_Mid_Posterior' 'CC_Central'\n",
      " 'CC_Mid_Anterior' 'CC_Anterior' 'BrainSegVol'\n",
      " 'EstimatedTotalIntraCranialVol' 'Unnamed: 0_x' 'Comm_ratio'\n",
      " 'SC_Corr_total' 'SC_Corr_intra_L' 'SC_Corr_intra_R' 'SC_L_avg_spl'\n",
      " 'SC_L_avg_eff' 'SC_R_avg_spl' 'SC_R_avg_eff' 'SC_avg_spl' 'SC_avg_eff'\n",
      " 'Unnamed: 0_y' 'Meta_y' 'FC_Corr_total' 'FC_Corr_intra_L'\n",
      " 'FC_Corr_intra_R' 'Entropy_total' 'Entropy_L' 'Entropy_R'\n",
      " 'Integration_total' 'Integration_L' 'Integration_R' 'FC_L_avg_spl'\n",
      " 'FC_L_efficiency' 'FC_R_avg_spl' 'FC_R_efficiency' 'FC_avg_spl'\n",
      " 'FC_efficiency' 'Unnamed: 0' 'SC_corr_whole' 'SC_corr_q1' 'SC_corr_q4'\n",
      " 'FC_corr_whole' 'FC_corr_q1' 'FC_corr_q4' 'short_FCSC' 'long_FCSC'\n",
      " 'disease' 'EDSS_group' 'SDMT_group' 'GROUP_prog' 'SC_spl_full'\n",
      " 'SC_eff_full' 'FC_spl_full' 'FC_eff_full' 'FC_entropy_full'\n",
      " 'FC_integration_full' 'Full_CC' 'Comm_ratio_approx' 'CC_ratio_area'\n",
      " 'CC_Sag_area_sqrt' 'TIV_cubicroot']\n"
     ]
    }
   ],
   "source": [
    "# Hue colors order and names\n",
    "# auxiliar dict to put correct order in the figure\n",
    "map_hue_color = {\n",
    "    \"G_norm\": ['G_z<=0', 'G_z>0'], \n",
    "    \"Corr_norm\": ['C_z<=0', 'C_z>0'],\n",
    "    \"disease\": [\"HC\", \"MS\"],\n",
    "    \"GROUP\": [\"HC\", \"CIS\", \"RRMS\", \"SPMS\", \"PPMS\"],\n",
    "    \"CENTER\": [\"CLINIC\", \"MAINZ\", \"MILAN\", \"NAPLES\", \"OSLO\", \"LONDON\", \"AMSTERDAM\"],\n",
    "}\n",
    "\n",
    "# get the progressives together.\n",
    "mapping_prog = {\n",
    "    \"HC\": \"HC\",\n",
    "    \"CIS\": \"CIS\", \n",
    "    \"RRMS\": \"RRMS\", \n",
    "    \"SPMS\": \"PMS\", \n",
    "    \"PPMS\": \"PMS\"\n",
    "}\n",
    "\n",
    "df_merged = load_data()\n",
    "print(df_merged.columns.values)\n",
    "\n",
    "df_merged[\"q_Comm_spl\"] = df_merged[\"Comm_ratio\"] / df_merged[\"SC_spl_full\"]\n",
    "df_merged[\"q_Comm_eff\"] = df_merged[\"Comm_ratio\"] / df_merged[\"SC_eff_full\"]\n",
    "df_merged[\"q_CC_spl\"] = df_merged[\"CC_ratio_area\"] / df_merged[\"SC_spl_full\"]\n",
    "df_merged[\"q_CC_eff\"] = df_merged[\"CC_ratio_area\"] / df_merged[\"SC_eff_full\"]\n"
   ]
  },
  {
   "cell_type": "code",
   "execution_count": 5,
   "metadata": {},
   "outputs": [],
   "source": [
    "\n",
    "## 4.2 Direct partial correlations between selected biomarkers and G/cs\n",
    "## Here it is part of what we want to do with 5.2 without correction, so no need\n",
    "def partial_corr(df, dependent_vars, cs=False):\n",
    "    \"\"\" \n",
    "    Do I generate the figures or only the tables?\n",
    "    Generate the table and small number of figures (maybe only for one or two biomarkers)\n",
    "    \"\"\"\n",
    "    structural_dmg_vars = [\"EDSS\", \"SDMT\"]\n",
    "\n",
    "    df_results_glm = pd.DataFrame()\n",
    "\n",
    "    for biomarker in structural_dmg_vars:\n",
    "        results_to_save = {}\n",
    "        for xvar in dependent_vars:\n",
    "            df_figure = df.dropna(subset=[biomarker,xvar])\n",
    "\n",
    "            results = smf.ols(f'{biomarker} ~ AGE + C(SEX) + C(CENTER)', data=df_figure).fit()\n",
    "            df_figure[f\"{biomarker}_C\"] = results.resid\n",
    "            \n",
    "            results = smf.ols(f'{xvar} ~ AGE + C(SEX) + C(CENTER)', data=df_figure).fit()\n",
    "            df_figure[f\"{xvar}_C\"] = results.resid\n",
    "\n",
    "            r, p = stats.pearsonr(df_figure[f\"{biomarker}_C\"], df_figure[f\"{xvar}_C\"])\n",
    "            ast = return_asterisks_p(p)\n",
    "            #str_save = f\"r={r:.2f}{ast}\"\n",
    "            str_save = f\"r={r:.2f}, pval={p:.1e}{ast}\"\n",
    "            results_to_save[xvar] = str_save\n",
    "\n",
    "        dict_to_append = {x: results_to_save[x] for x in dependent_vars}\n",
    "        dict_to_append = {'Biomarker': biomarker, **dict_to_append}\n",
    "        df_results_glm = df_results_glm.append(dict_to_append, ignore_index=True)\n",
    "\n",
    "    # remove index from df\n",
    "    df_results_glm = df_results_glm.reset_index(drop=True)\n",
    "    df_results_glm = df_results_glm.set_index('Biomarker')\n",
    "    # df_results_glm = df_results_glm.style.set_caption(f'{title}: partial correlations')\n",
    "    # display(df_results_glm)\n",
    "    return df_results_glm.T\n",
    "\n"
   ]
  },
  {
   "cell_type": "code",
   "execution_count": 7,
   "metadata": {},
   "outputs": [
    {
     "name": "stdout",
     "output_type": "stream",
     "text": [
      "\\begin{tabular}{lll}\n",
      "\\toprule\n",
      "Biomarker &                   EDSS &                   SDMT \\\\\n",
      "\\midrule\n",
      "SC_corr_q1    &   r=0.02, pval=6.5e-01 &  r=-0.03, pval=5.0e-01 \\\\\n",
      "SC_corr_q4    &   r=0.05, pval=3.1e-01 &  r=-0.06, pval=1.8e-01 \\\\\n",
      "FC_avg_spl    &   r=0.03, pval=5.0e-01 &   r=0.03, pval=4.4e-01 \\\\\n",
      "FC_efficiency &  r=-0.03, pval=5.5e-01 &  r=-0.02, pval=6.6e-01 \\\\\n",
      "FC_corr_q1    &   r=0.02, pval=6.0e-01 &   r=0.03, pval=4.4e-01 \\\\\n",
      "FC_corr_q4    &   r=0.05, pval=3.1e-01 &   r=0.01, pval=7.2e-01 \\\\\n",
      "short_FCSC    &   r=0.02, pval=7.5e-01 &  r=-0.04, pval=4.0e-01 \\\\\n",
      "long_FCSC     &   r=0.02, pval=7.1e-01 &  r=-0.05, pval=2.1e-01 \\\\\n",
      "\\bottomrule\n",
      "\\end{tabular}\n",
      "\n"
     ]
    }
   ],
   "source": [
    "list_of_features = [\"SC_corr_q1\", \"SC_corr_q4\", \"FC_avg_spl\", \"FC_efficiency\", \"FC_corr_q1\", \"FC_corr_q4\", \"short_FCSC\", \"long_FCSC\"]\n",
    "\n",
    "df_results = partial_corr(df_merged, list_of_features, False)\n",
    "\n",
    "# print latex\n",
    "print(df_results.to_latex(escape=False))"
   ]
  },
  {
   "cell_type": "code",
   "execution_count": null,
   "metadata": {},
   "outputs": [],
   "source": []
  },
  {
   "cell_type": "code",
   "execution_count": null,
   "metadata": {},
   "outputs": [],
   "source": []
  }
 ],
 "metadata": {
  "kernelspec": {
   "display_name": "base",
   "language": "python",
   "name": "python3"
  },
  "language_info": {
   "codemirror_mode": {
    "name": "ipython",
    "version": 3
   },
   "file_extension": ".py",
   "mimetype": "text/x-python",
   "name": "python",
   "nbconvert_exporter": "python",
   "pygments_lexer": "ipython3",
   "version": "3.9.12"
  },
  "orig_nbformat": 4,
  "vscode": {
   "interpreter": {
    "hash": "29c68d7e6eb9a62430e4c6dc4a6e9ca37c9675647923d158b28969aa466ad8c0"
   }
  }
 },
 "nbformat": 4,
 "nbformat_minor": 2
}
