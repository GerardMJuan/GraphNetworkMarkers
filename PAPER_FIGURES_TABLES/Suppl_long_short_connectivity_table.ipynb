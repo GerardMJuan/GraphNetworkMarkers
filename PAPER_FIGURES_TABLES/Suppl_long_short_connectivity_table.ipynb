{
 "cells": [
  {
   "cell_type": "markdown",
   "metadata": {},
   "source": [
    "## Supplementary: Long-Short Connectivity Table"
   ]
  },
  {
   "cell_type": "code",
   "execution_count": 1,
   "metadata": {},
   "outputs": [],
   "source": [
    "import pandas as pd\n",
    "import numpy as np\n",
    "import matplotlib.pyplot as plt\n",
    "import seaborn as sns\n",
    "from statannot import add_stat_annotation\n",
    "import statsmodels.api as sm\n",
    "import statsmodels.formula.api as smf\n",
    "from scipy import stats\n",
    "from statannotations.Annotator import Annotator\n",
    "import itertools \n",
    "\n",
    "# ignore warnings for easier plotting\n",
    "import warnings\n",
    "warnings.filterwarnings(\"ignore\")\n",
    "\n",
    "from load_data import load_data, return_asterisks_p"
   ]
  },
  {
   "cell_type": "code",
   "execution_count": null,
   "metadata": {},
   "outputs": [],
   "source": [
    "# Hue colors order and names\n",
    "# auxiliar dict to put correct order in the figure\n",
    "map_hue_color = {\n",
    "    \"G_norm\": ['G_z<=0', 'G_z>0'], \n",
    "    \"Corr_norm\": ['C_z<=0', 'C_z>0'],\n",
    "    \"disease\": [\"HC\", \"MS\"],\n",
    "    \"GROUP\": [\"HC\", \"CIS\", \"RRMS\", \"SPMS\", \"PPMS\"],\n",
    "    \"CENTER\": [\"CLINIC\", \"MAINZ\", \"MILAN\", \"NAPLES\", \"OSLO\", \"LONDON\", \"AMSTERDAM\"],\n",
    "}\n",
    "\n",
    "# get the progressives together.\n",
    "mapping_prog = {\n",
    "    \"HC\": \"HC\",\n",
    "    \"CIS\": \"CIS\", \n",
    "    \"RRMS\": \"RRMS\", \n",
    "    \"SPMS\": \"PMS\", \n",
    "    \"PPMS\": \"PMS\"\n",
    "}\n",
    "\n",
    "df_merged = load_data()\n",
    "print(df_merged.columns.values)\n",
    "\n",
    "df_merged[\"q_Comm_spl\"] = df_merged[\"Comm_ratio\"] / df_merged[\"SC_spl_full\"]\n",
    "df_merged[\"q_Comm_eff\"] = df_merged[\"Comm_ratio\"] / df_merged[\"SC_eff_full\"]\n",
    "df_merged[\"q_CC_spl\"] = df_merged[\"CC_ratio_area\"] / df_merged[\"SC_spl_full\"]\n",
    "df_merged[\"q_CC_eff\"] = df_merged[\"CC_ratio_area\"] / df_merged[\"SC_eff_full\"]\n"
   ]
  },
  {
   "cell_type": "code",
   "execution_count": 5,
   "metadata": {},
   "outputs": [],
   "source": [
    "\n",
    "## 4.2 Direct partial correlations between selected biomarkers and G/cs\n",
    "## Here it is part of what we want to do with 5.2 without correction, so no need\n",
    "def partial_corr(df, dependent_vars, cs=False):\n",
    "    \"\"\" \n",
    "    Do I generate the figures or only the tables?\n",
    "    Generate the table and small number of figures (maybe only for one or two biomarkers)\n",
    "    \"\"\"\n",
    "    structural_dmg_vars = [\"EDSS\", \"SDMT\"]\n",
    "\n",
    "    df_results_glm = pd.DataFrame()\n",
    "\n",
    "    for biomarker in structural_dmg_vars:\n",
    "        results_to_save = {}\n",
    "        for xvar in dependent_vars:\n",
    "            df_figure = df.dropna(subset=[biomarker,xvar])\n",
    "\n",
    "            results = smf.ols(f'{biomarker} ~ AGE + C(SEX) + C(CENTER)', data=df_figure).fit()\n",
    "            df_figure[f\"{biomarker}_C\"] = results.resid\n",
    "            \n",
    "            results = smf.ols(f'{xvar} ~ AGE + C(SEX) + C(CENTER)', data=df_figure).fit()\n",
    "            df_figure[f\"{xvar}_C\"] = results.resid\n",
    "\n",
    "            r, p = stats.pearsonr(df_figure[f\"{biomarker}_C\"], df_figure[f\"{xvar}_C\"])\n",
    "            ast = return_asterisks_p(p)\n",
    "            #str_save = f\"r={r:.2f}{ast}\"\n",
    "            str_save = f\"r={r:.2f}, pval={p:.1e}{ast}\"\n",
    "            results_to_save[xvar] = str_save\n",
    "\n",
    "        dict_to_append = {x: results_to_save[x] for x in dependent_vars}\n",
    "        dict_to_append = {'Biomarker': biomarker, **dict_to_append}\n",
    "        df_results_glm = df_results_glm.append(dict_to_append, ignore_index=True)\n",
    "\n",
    "    # remove index from df\n",
    "    df_results_glm = df_results_glm.reset_index(drop=True)\n",
    "    df_results_glm = df_results_glm.set_index('Biomarker')\n",
    "    # df_results_glm = df_results_glm.style.set_caption(f'{title}: partial correlations')\n",
    "    # display(df_results_glm)\n",
    "    return df_results_glm.T\n",
    "\n"
   ]
  },
  {
   "cell_type": "code",
   "execution_count": null,
   "metadata": {},
   "outputs": [],
   "source": [
    "list_of_features = [\"SC_corr_q1\", \"SC_corr_q4\", \"FC_avg_spl\", \"FC_efficiency\", \"FC_corr_q1\", \"FC_corr_q4\", \"short_FCSC\", \"long_FCSC\"]\n",
    "\n",
    "df_results = partial_corr(df_merged, list_of_features, False)\n",
    "\n",
    "# print latex\n",
    "print(df_results.to_latex(escape=False))"
   ]
  },
  {
   "cell_type": "code",
   "execution_count": null,
   "metadata": {},
   "outputs": [],
   "source": []
  },
  {
   "cell_type": "code",
   "execution_count": null,
   "metadata": {},
   "outputs": [],
   "source": []
  }
 ],
 "metadata": {
  "kernelspec": {
   "display_name": "base",
   "language": "python",
   "name": "python3"
  },
  "language_info": {
   "codemirror_mode": {
    "name": "ipython",
    "version": 3
   },
   "file_extension": ".py",
   "mimetype": "text/x-python",
   "name": "python",
   "nbconvert_exporter": "python",
   "pygments_lexer": "ipython3",
   "version": "3.9.12"
  },
  "orig_nbformat": 4,
  "vscode": {
   "interpreter": {
    "hash": "29c68d7e6eb9a62430e4c6dc4a6e9ca37c9675647923d158b28969aa466ad8c0"
   }
  }
 },
 "nbformat": 4,
 "nbformat_minor": 2
}
