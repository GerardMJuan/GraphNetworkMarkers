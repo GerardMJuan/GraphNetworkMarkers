{
 "cells": [
  {
   "cell_type": "markdown",
   "metadata": {},
   "source": [
    "## Figure 2: Commissure ratio against MS\n",
    "\n",
    "Create one or two figures showing the relationship with biomarkers (such as commisural ratio) and MS, comparing it between groups\n",
    "and against EDSS/SDMT"
   ]
  },
  {
   "cell_type": "markdown",
   "metadata": {},
   "source": []
  }
 ],
 "metadata": {
  "language_info": {
   "name": "python"
  },
  "orig_nbformat": 4
 },
 "nbformat": 4,
 "nbformat_minor": 2
}
